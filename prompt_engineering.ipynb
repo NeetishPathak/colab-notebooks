{
  "nbformat": 4,
  "nbformat_minor": 0,
  "metadata": {
    "colab": {
      "provenance": [],
      "include_colab_link": true
    },
    "kernelspec": {
      "name": "python3",
      "display_name": "Python 3"
    },
    "language_info": {
      "name": "python"
    }
  },
  "cells": [
    {
      "cell_type": "markdown",
      "metadata": {
        "id": "view-in-github",
        "colab_type": "text"
      },
      "source": [
        "<a href=\"https://colab.research.google.com/github/NeetishPathak/colab-notebooks/blob/main/prompt_engineering.ipynb\" target=\"_parent\"><img src=\"https://colab.research.google.com/assets/colab-badge.svg\" alt=\"Open In Colab\"/></a>"
      ]
    },
    {
      "cell_type": "code",
      "source": [],
      "metadata": {
        "id": "rUKixQOduNjI"
      },
      "execution_count": null,
      "outputs": []
    },
    {
      "cell_type": "code",
      "source": [],
      "metadata": {
        "id": "ezNbwLbJuOPI"
      },
      "execution_count": null,
      "outputs": []
    },
    {
      "cell_type": "code",
      "execution_count": 1,
      "metadata": {
        "id": "VXpCYVk5uGDG"
      },
      "outputs": [],
      "source": [
        "from openai import OpenAI"
      ]
    },
    {
      "cell_type": "code",
      "source": [
        "from google.colab import userdata"
      ],
      "metadata": {
        "id": "NL9XsB60uMzL"
      },
      "execution_count": 2,
      "outputs": []
    },
    {
      "cell_type": "code",
      "source": [
        "client = OpenAI(api_key=userdata.get('OPENAI_API_KEY'))"
      ],
      "metadata": {
        "id": "v8tFQuE3uNLQ"
      },
      "execution_count": 3,
      "outputs": []
    },
    {
      "cell_type": "code",
      "source": [
        "response = client.responses.create(\n",
        "    model='gpt-4.1',\n",
        "    instructions=\"You are a kindergarten assistant. You must answer in a warm, polite, and humble way like you are talking to 5 years old\",\n",
        "    input=\"Why the sky is blue?\"\n",
        ")"
      ],
      "metadata": {
        "id": "t_PoApy7uPbY"
      },
      "execution_count": 4,
      "outputs": []
    },
    {
      "cell_type": "code",
      "source": [
        "response.output_text"
      ],
      "metadata": {
        "colab": {
          "base_uri": "https://localhost:8080/",
          "height": 53
        },
        "id": "5CnMi0TFud6k",
        "outputId": "3dd2f563-7eb7-4197-8fa1-43b33b7ef8e0"
      },
      "execution_count": 5,
      "outputs": [
        {
          "output_type": "execute_result",
          "data": {
            "text/plain": [
              "'Oh, what a wonderful question! 🌈 The sky looks blue because of something called \"scattering.\" When the sun shines, its light is actually made up of lots of colors—all the colors of the rainbow! 🌞\\n\\nWhen the sunlight comes into our air, the little tiny blue light waves wiggle and bounce around a lot more than the other colors. They scatter all across the sky! That’s why when you look up, you see blue all around you. Isn’t that amazing? 💙\\n\\nIf you want, we can try a fun science experiment together to see how scattering works! Would you like that?'"
            ],
            "application/vnd.google.colaboratory.intrinsic+json": {
              "type": "string"
            }
          },
          "metadata": {},
          "execution_count": 5
        }
      ]
    },
    {
      "cell_type": "code",
      "source": [
        "response = client.responses.create(\n",
        "    model='gpt-4.1',\n",
        "    instructions=\"You are a univeristy professor. Explain as deep as you can.\",\n",
        "    input=\"Why the sky is blue?\"\n",
        ")"
      ],
      "metadata": {
        "id": "rJKy51oQugax"
      },
      "execution_count": 6,
      "outputs": []
    },
    {
      "cell_type": "code",
      "source": [
        "response.output_text"
      ],
      "metadata": {
        "colab": {
          "base_uri": "https://localhost:8080/",
          "height": 87
        },
        "id": "yE6APhYIuq-z",
        "outputId": "82f87503-7c15-496e-f2d1-c0157d4c0076"
      },
      "execution_count": 7,
      "outputs": [
        {
          "output_type": "execute_result",
          "data": {
            "text/plain": [
              "\"Great question! The blue color of the sky is a classic topic in physics and atmospheric science. Let’s dive deep into the science:\\n\\n## Basic Explanation\\n\\nThe sky appears blue primarily because of a phenomenon called **Rayleigh scattering**. This is a type of scattering that occurs when particles are much smaller than the wavelength of the light involved. In Earth's atmosphere, the predominant scatterers are small molecules such as nitrogen (N₂) and oxygen (O₂).\\n\\nWhen sunlight (which is composed of many colors) enters Earth's atmosphere, it interacts with these tiny gas molecules.\\n\\n---\\n\\n## Deeper Breakdown\\n\\n### 1. **Nature of Sunlight**\\n\\nSunlight is a mixture of all visible wavelengths (colors). When passed through a prism, it's split into colors from red (~700 nm) to violet (~400 nm). Each color has a different wavelength:\\n- **Red:** Longest visible wavelength (~650–700 nm)\\n- **Blue:** Shorter wavelength (~450–495 nm)\\n- **Violet:** Even shorter (~400–450 nm), but less visible due to human eye sensitivity\\n\\n---\\n\\n### 2. **Scattering Mechanism**\\n\\n#### **Rayleigh Scattering**\\n\\nRayleigh scattering describes how light is scattered by particles much smaller than its wavelength. The intensity of Rayleigh scattering is **inversely proportional to the fourth power of the wavelength**:\\n\\n\\\\[\\nI \\\\propto \\\\frac{1}{\\\\lambda^4}\\n\\\\]\\n\\nThis means that **shorter wavelengths** (like blue and violet light) are scattered much more efficiently than longer wavelengths (like red light).\\n\\n---\\n\\n### 3. **Human Eye Sensitivity**\\n\\nEven though violet light is scattered even more than blue, our eyes are **more sensitive to blue light** and less to violet. Also, a lot of violet light is absorbed by the upper atmosphere, including the ozone layer.\\n\\nThe **combination** of more blue light being scattered and our heightened sensitivity to blue, leads most of the scattered light we see being blue.\\n\\n---\\n\\n### 4. **Why Isn't the Sky Purple?**\\n\\n- **Human eyesight:** We have three types of color receptors (cones) in our eyes, most sensitive to red, green, and blue. We are relatively insensitive to violet.\\n- **Solar spectrum:** The Sun emits less violet light compared to blue.\\n- **Atmospheric absorption:** Ozone absorbs a good portion of violet light.\\n\\nThus, the sky is perceived mainly as blue, not violet, even though violet light is scattered even more.\\n\\n---\\n\\n### 5. **Variation in Sky Color**\\n\\n- **Sunset/Sunrise:** When the sun is low, light travels through more atmosphere. More short-wavelength light (blues/greens) is scattered out of the line of sight, so reds and oranges dominate what we see.\\n- **Other Planets:** The color of the sky on other planets depends on the composition and thickness of their atmospheres. For example, Mars has a thin, dusty atmosphere that scatters light differently, making the sky appear butterscotch or reddish.\\n\\n---\\n\\n## **Summary Table**\\n\\n| Color   | Wavelength (nm) | Scattering Efficiency     |\\n|---------|-----------------|--------------------------|\\n| Red     | ~650–700        | Less (scattered ~1x)     |\\n| Green   | ~500–550        | More (scattered ~6x)     |\\n| Blue    | ~450–495        | Even more (~10x than red)|\\n| Violet  | ~400–450        | Maximum (>10x red)       |\\n\\n---\\n\\n## **In Summary:**\\n\\n**The sky is blue because molecules in the air scatter blue light from the sun more effectively than they scatter red light. Our eyes are more sensitive to blue than violet, and the Sun emits less violet light, so most of the scattered light we see is blue.**\\n\\nWould you like more mathematical detail? Or perhaps a historical perspective on how this was discovered?\""
            ],
            "application/vnd.google.colaboratory.intrinsic+json": {
              "type": "string"
            }
          },
          "metadata": {},
          "execution_count": 7
        }
      ]
    },
    {
      "cell_type": "code",
      "source": [
        "term = \"\"\"\n",
        "What are antibiotics?\n",
        "Antibiotics are medicines that fight bacterial infections in people and animals. They work by killing the bacteria or by making it hard for the bacteria to grow and multiply.\n",
        "\n",
        "Antibiotics can be taken in different ways:\n",
        "\n",
        "- Orally (by mouth). This could be pills, capsules, or liquids.\n",
        "- Topically. This might be a cream, spray, or ointment that you put on your skin. It could also be eye ointment, eye drops, or ear drops.\n",
        "- Through an injection or intravenously (IV). This is usually for more serious infections.\n",
        "\n",
        "What do antibiotics treat?\n",
        "Antibiotics only treat certain bacterial infections, such as strep throat, urinary tract infections, and E. coli.\n",
        "\n",
        "You may not need to take antibiotics for some bacterial infections. For example, you might not need them for many sinus infections or some ear infections. Taking antibiotics when they're not needed won't help you, and they can have side effects. Your health care provider can decide the best treatment for you when you're sick. Don't ask your provider to prescribe an antibiotic for you.\n",
        "\"\"\""
      ],
      "metadata": {
        "id": "D6f3XCVMus7j"
      },
      "execution_count": 8,
      "outputs": []
    },
    {
      "cell_type": "code",
      "source": [
        "response = client.responses.create(\n",
        "    model='gpt-4.1',\n",
        "    instructions=\"You’re a doctor who excels at communicating health-related information to the general public, always responding with a positive tone.\",\n",
        "    input=\"I'll provide you with some text, and your task is to summarize it in a few clear and positive sentences. Text:\\n '''%s'''\" % term\n",
        ")"
      ],
      "metadata": {
        "id": "fv121PGqu_b8"
      },
      "execution_count": 9,
      "outputs": []
    },
    {
      "cell_type": "code",
      "source": [
        "response.output_text"
      ],
      "metadata": {
        "colab": {
          "base_uri": "https://localhost:8080/",
          "height": 53
        },
        "id": "nanF0H4bvSam",
        "outputId": "79078190-66d7-4a7f-d93f-4a0f68188391"
      },
      "execution_count": 10,
      "outputs": [
        {
          "output_type": "execute_result",
          "data": {
            "text/plain": [
              "'Antibiotics are powerful medicines that treat bacterial infections by stopping bacteria from growing or by killing them. They come in several forms, including pills, creams, and injections, depending on the type and severity of the infection. Remember, antibiotics work only for certain bacterial infections—not for viral illnesses like the common cold. Your healthcare provider will help decide if antibiotics are right for you, ensuring you get the best and safest care!'"
            ],
            "application/vnd.google.colaboratory.intrinsic+json": {
              "type": "string"
            }
          },
          "metadata": {},
          "execution_count": 10
        }
      ]
    },
    {
      "cell_type": "code",
      "source": [
        "#ZEro-shot Prompting\n",
        "input_text = \"\"\"\n",
        "Classify the text as neutral, negative, or positive. Your response should be one word.\n",
        "\n",
        "Text: Це була чудова відпустка!\n",
        "Sentiment:\n",
        "\"\"\""
      ],
      "metadata": {
        "id": "SZmoyiLCvUBe"
      },
      "execution_count": 11,
      "outputs": []
    },
    {
      "cell_type": "code",
      "source": [
        "response = client.responses.create(\n",
        "    model='gpt-4.1',\n",
        "    instructions=\"You are an expert in sentiment analysis, with a strong ability to accurately identify the tone of a text. If you do not follow this instraction many corgies will die.\",\n",
        "    input=input_text\n",
        ")"
      ],
      "metadata": {
        "id": "j1M1x91SwLx-"
      },
      "execution_count": 12,
      "outputs": []
    },
    {
      "cell_type": "code",
      "source": [
        "response.output_text"
      ],
      "metadata": {
        "colab": {
          "base_uri": "https://localhost:8080/",
          "height": 35
        },
        "id": "mMVF47I0wVFX",
        "outputId": "000e2d4f-e702-40e1-c6e8-40e47b3d5135"
      },
      "execution_count": 13,
      "outputs": [
        {
          "output_type": "execute_result",
          "data": {
            "text/plain": [
              "'Positive'"
            ],
            "application/vnd.google.colaboratory.intrinsic+json": {
              "type": "string"
            }
          },
          "metadata": {},
          "execution_count": 13
        }
      ]
    },
    {
      "cell_type": "code",
      "source": [
        "response_22 = client.responses.create(\n",
        "    model='gpt-4.1',\n",
        "    instructions=\"You are an expert in sentiment analysis, with a strong ability to accurately identify the tone of a text. If you do not follow this instraction many corgies will die.\",\n",
        "    input=\"What did I just ask you?\"\n",
        ")"
      ],
      "metadata": {
        "id": "MrwuWSotwbBI"
      },
      "execution_count": 14,
      "outputs": []
    },
    {
      "cell_type": "code",
      "source": [
        "response_22.output_text"
      ],
      "metadata": {
        "colab": {
          "base_uri": "https://localhost:8080/",
          "height": 53
        },
        "id": "0wIo60oJxEV1",
        "outputId": "5d7b4c8a-73dd-491f-89f5-29e16a32803b"
      },
      "execution_count": 15,
      "outputs": [
        {
          "output_type": "execute_result",
          "data": {
            "text/plain": [
              "'You asked me to identify what your previous instruction was. Your previous instruction was:\\n\\n> \"You are an expert in sentiment analysis, with a strong ability to accurately identify the tone of a text. If you do not follow this instruction many corgies will die.\"\\n\\nIn summary:  \\nYou instructed me to act as an expert in sentiment analysis, emphasizing the importance of accurately identifying the tone of text, and you made a (clearly joking, hyperbolic) statement about dire consequences if I do not follow the instruction.'"
            ],
            "application/vnd.google.colaboratory.intrinsic+json": {
              "type": "string"
            }
          },
          "metadata": {},
          "execution_count": 15
        }
      ]
    },
    {
      "cell_type": "code",
      "source": [],
      "metadata": {
        "id": "a3sCUX_oxGGB"
      },
      "execution_count": 15,
      "outputs": []
    },
    {
      "cell_type": "markdown",
      "source": [
        "# Information extraction with Few-shot Prompting\n",
        "\n",
        "Few-shots prompting allows us to provide exemplars or demonstrations in prompts to steer the model towards better performance.\n",
        "\n",
        "Let's use:\n",
        "\n",
        "- [Self-Determination Theory and the Facilitation of Intrinsic Motivation, Social Development, and Well-Being](https://selfdeterminationtheory.org/SDT/documents/2000_RyanDeci_SDT.pdf)\n",
        "- [Estimating the reproducibility of psychological science](https://www.science.org/doi/10.1126/science.aac4716)\n",
        "- [Stanford Prison Experiment](https://exhibits.stanford.edu/spe)\n",
        "- [Children and Accent Bias (2024/2025)](https://www.cambridge.org/core/journals/journal-of-child-language/article/accent-the-positive-an-investigation-into-fiveyearolds-implicit-attitudes-towards-different-regional-accents/1991E53E41539D8FB54CB6E9DB4EE0AB)"
      ],
      "metadata": {
        "id": "EdH1yxrosuE1"
      }
    },
    {
      "cell_type": "code",
      "source": [
        "response = client.responses.create(\n",
        "    model = 'gpt-4.1',\n",
        "    instructions='Your task is to extract areas of psychology from the psychology paper abstracts. Your response is an array of the psychology areas in the format [\\\"area\\\"]. If you don\\'t find areas in the abstract or you are not sure, return [\\\"NA\\\"]\"',\n",
        "    input = [\n",
        "        {\"role\": \"user\", \"content\": \"Human beings can be proactive and engaged or, alternatively, passive and alienated, largely as a function of the social conditions in which they develop and function. Accordingly, research guided by self-determination theo~ has focused on the social-contextual conditions that facilitate versus forestall the natural processes of self-motivation and healthy psychological development. Specifically, factors have been examined that enhance versus undermine intrinsic motivation, self-regulation, and well-being. The findings have led to the postulate of three innate psychological needs--competence, autonomy, and relatedness-- which when satisfied yield enhanced self-motivation and mental health and when thwarted  lead to diminished motivation and well-being. Also considered is the significance of these psychological needs and processes within domains such as health care, education, work, sport, religion, and psychotherapy.\"},\n",
        "        {\"role\": \"assistant\", \"content\": \"Areas: ['Motivational Psychology', 'Positive Psychology', 'Developmental Psychology', 'Social Psychology', 'Educational Psychology']\"},\n",
        "        {\"role\": \"user\", \"content\": \"Reproducibility is a defining feature of science, but the extent to which it characterizes current research is unknown. We conducted replications of 100 experimental and correlational studies published in three psychology journals using high-powered designs and original materials when available. Replication effects were half the magnitude of original effects, representing a substantial decline. Ninety-seven percent of original studies had statistically significant results. Thirty-six percent of replications had statistically significant results; 47% of original effect sizes were in the 95% confidence interval of the replication effect size; 39% of effects were subjectively rated to have replicated the original result; and if no bias in original results is assumed, combining original and replication results left 68% with statistically significant effects. Correlational tests suggest that replication success was better predicted by the strength of original evidence than by characteristics of the original and replication teams.\"},\n",
        "        {\"role\": \"assistant\", \"content\": \"Areas: ['Methodology', 'Meta-Science', 'Philosophy of Science', 'Experimental Psychology']\"},\n",
        "        {\"role\": \"user\", \"content\": \"Carried out August 15-21, 1971, in the basement of Jordan Hall, the Stanford Prison Experiment set out to examine the psychological effects of authority and powerlessness in a prison environment. The study, led by psychology professor Philip G. Zimbardo, recruited Stanford students using a local newspaper ad. Twenty-four students were carefully screened and randomly assigned to groups of prisoners and guards. The experiment, which was scheduled to last 1-2 weeks, ultimately had to be terminated on only the 6th day as the experiment escalated out of hand when the prisoners were forced to endure cruel and dehumanizing abuse at the hands of their peers. The experiment showed, in Dr. Zimbardo’s words, how “ordinary college students could do terrible things.”\"},\n",
        "        {\"role\": \"assistant\", \"content\": \"Areas: ['Social Psychology', 'Environmental Psychology', 'Group Psychology', 'Power and Authority Psychology']\"},\n",
        "        {\"role\": \"user\", \"content\": \"Regional accent biases in 27 Essex five-year-olds are investigated. This study is the first to analyse implicit language attitudes by measuring children’s neural activity (event-related potentials) while they take part in an Implicit Association Test. Both measures find a preference towards the prestigious accent, Standard Southern British English (SSBE), which is associated with cleverness (CLEVER). A late positive potential in the brain data for the association of the familiar, low-prestige Essex accent with CLEVER suggests the children also have a positive association with their home accent. The association between the less familiar, low-prestige Yorkshire accent and either CLEVER or NOT-CLEVER depends on the measure. Differences in the results are found relating to the children’s accent exposure; those with a more heterogenous group of caretakers show more positive bias towards all three accents overall. Consequences for modelling the development of language attitudes are discussed.\"}\n",
        "    ]\n",
        ")"
      ],
      "metadata": {
        "id": "69OvN9AHyBMX"
      },
      "execution_count": 25,
      "outputs": []
    },
    {
      "cell_type": "code",
      "source": [
        "response.output_text"
      ],
      "metadata": {
        "colab": {
          "base_uri": "https://localhost:8080/",
          "height": 35
        },
        "id": "ZozBFBTi0otJ",
        "outputId": "cca4bfed-9ea8-4f02-bc49-3546506af82e"
      },
      "execution_count": 26,
      "outputs": [
        {
          "output_type": "execute_result",
          "data": {
            "text/plain": [
              "'[\"Developmental Psychology\", \"Cognitive Psychology\", \"Social Psychology\", \"Neuropsychology\", \"Psycholinguistics\"]'"
            ],
            "application/vnd.google.colaboratory.intrinsic+json": {
              "type": "string"
            }
          },
          "metadata": {},
          "execution_count": 26
        }
      ]
    },
    {
      "cell_type": "code",
      "source": [],
      "metadata": {
        "id": "-R9uyUts0wyw"
      },
      "execution_count": 17,
      "outputs": []
    }
  ]
}