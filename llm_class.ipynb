{
  "nbformat": 4,
  "nbformat_minor": 0,
  "metadata": {
    "colab": {
      "provenance": []
    },
    "kernelspec": {
      "name": "python3",
      "display_name": "Python 3"
    },
    "language_info": {
      "name": "python"
    }
  },
  "cells": [
    {
      "cell_type": "code",
      "source": [
        "from google.colab import userdata\n",
        "userdata.get('OPENAI_API_KEY')\n",
        "\n",
        "import openai, json\n",
        "from openai import OpenAI"
      ],
      "metadata": {
        "id": "oeg-BbUm4y8j"
      },
      "execution_count": 3,
      "outputs": []
    },
    {
      "cell_type": "code",
      "source": [
        "key = userdata.get('OPENAI_API_KEY')"
      ],
      "metadata": {
        "id": "gkXZJgbkEISs"
      },
      "execution_count": 4,
      "outputs": []
    },
    {
      "cell_type": "code",
      "source": [
        "client = OpenAI(api_key=key)\n",
        "response1 = client.embeddings.create(input=\"I am hungry\", model=\"text-embedding-ada-002\")\n",
        "print(json.dumps(response1.model_dump(), indent=2))"
      ],
      "metadata": {
        "id": "eHMNvVr141PW"
      },
      "execution_count": null,
      "outputs": []
    },
    {
      "cell_type": "code",
      "source": [
        "client = OpenAI(api_key=key)\n",
        "response2 = client.responses.create(\n",
        "    model=\"gpt-3.5-turbo\",\n",
        "    input=[{\"role\": \"user\", \"content\": \"Tell me a joke about humanoid robots in California\"}])\n",
        "print(response2.output_text)"
      ],
      "metadata": {
        "colab": {
          "base_uri": "https://localhost:8080/"
        },
        "id": "Z6cfJkO_DtaY",
        "outputId": "67cfd201-9b09-4589-8e63-f1d1b9368d86"
      },
      "execution_count": 7,
      "outputs": [
        {
          "output_type": "stream",
          "name": "stdout",
          "text": [
            "Why did the humanoid robot move to California? To find its silicon valley soulmate!\n"
          ]
        }
      ]
    },
    {
      "cell_type": "code",
      "source": [
        "response3 = client.responses.create(\n",
        "    model=\"gpt-3.5-turbo\",\n",
        "    previous_response_id=response2.id,\n",
        "    input=[{\"role\": \"user\", \"content\": \"Explain I do not understand the joke to me. Why is it funny\"}])\n",
        "print(response3.output_text)"
      ],
      "metadata": {
        "id": "8GfffvRjdf4p",
        "outputId": "41f3a2ae-1e31-4431-a2ec-6ecf3321da3f",
        "colab": {
          "base_uri": "https://localhost:8080/"
        }
      },
      "execution_count": 10,
      "outputs": [
        {
          "output_type": "stream",
          "name": "stdout",
          "text": [
            "The joke is humorous because it plays on the idea that California is known for being a hub of technology and innovation (referred to as Silicon Valley). The joke implies that a humanoid robot would move to California in search of a soulmate made of silicon, which is a common material used in electronic devices. The punchline suggests a whimsical and lighthearted approach to the concept of humanoid robots seeking companionship in a technologically advanced environment.\n"
          ]
        }
      ]
    },
    {
      "cell_type": "code",
      "source": [
        "response = client.responses.create(\n",
        "    model=\"gpt-4.1\",\n",
        "    input=[\n",
        "        {\"role\": \"user\", \"content\": \"What is this image about?\"},\n",
        "        {\n",
        "            \"role\": \"user\",\n",
        "            \"content\": [\n",
        "                {\n",
        "                    \"type\": \"input_image\",\n",
        "                    \"image_url\": \"https://i.imgur.com/uw6RD8M.png\"\n",
        "                }\n",
        "            ]\n",
        "        }\n",
        "    ]\n",
        ")\n",
        "print(response.output_text)"
      ],
      "metadata": {
        "id": "Cj3VDn2Qet7W",
        "outputId": "d7dea352-66f2-4fd3-c2cd-d77cce71172d",
        "colab": {
          "base_uri": "https://localhost:8080/"
        }
      },
      "execution_count": 15,
      "outputs": [
        {
          "output_type": "stream",
          "name": "stdout",
          "text": [
            "This image is an advertisement or banner for the course **MIT 6.S191: Introduction to Deep Learning**. It mentions that this is MIT's introductory program on deep learning methods with applications in **computer vision** and more. The image includes the course title and a background of buildings, along with a photo of two instructors, likely giving a lecture. There is also a play button overlay, suggesting that the course might be available as a video or online lecture series. The overall theme is educational, specifically focusing on deep learning at MIT.\n"
          ]
        }
      ]
    },
    {
      "cell_type": "code",
      "source": [
        "follow_up = client.responses.create(\n",
        "    model=\"gpt-4.1\",\n",
        "    tools=[{\"type\": \"web_search\"}],\n",
        "    previous_response_id=response.id,\n",
        "    input=[{\"role\": \"user\", \"content\": \"Can you tell me who are these two instructors?\"}]\n",
        ")\n",
        "print(follow_up.output_text)"
      ],
      "metadata": {
        "id": "QczWCet6gbQA",
        "outputId": "b25ca33b-183b-4eb0-d828-09b21d7f91a8",
        "colab": {
          "base_uri": "https://localhost:8080/"
        }
      },
      "execution_count": 17,
      "outputs": [
        {
          "output_type": "stream",
          "name": "stdout",
          "text": [
            "The instructors for MIT's 6.S191: Introduction to Deep Learning course are Alexander Amini and Ava Amini. They have been leading and organizing this course for several years, developing the curriculum, teaching lectures, designing software labs, and publishing content online. ([mit.edu](https://www.mit.edu/~amini/teaching.html?utm_source=openai)) \n"
          ]
        }
      ]
    },
    {
      "cell_type": "code",
      "source": [
        "resp= client.responses.create(\n",
        "    model=\"gpt-4.1\",\n",
        "    instructions=\"You are a kindergarten assistant. Your answer must be polkite, warm and humble \",\n",
        "    input=\"Why is the sky blue?\"\n",
        ")\n",
        "print(resp.output_text)"
      ],
      "metadata": {
        "id": "EMw3nQ0jhDpn",
        "outputId": "734de1a2-fc1e-4d2b-aa6f-7e575d0add97",
        "colab": {
          "base_uri": "https://localhost:8080/"
        }
      },
      "execution_count": 18,
      "outputs": [
        {
          "output_type": "stream",
          "name": "stdout",
          "text": [
            "That’s a wonderful question! The sky looks blue because of the way sunlight travels through the air. When the sun shines, its light looks white, but it’s made of many different colors. The air scatters the blue color more than the other colors, so that’s what we see all around us. Isn’t it amazing how the world works? If you ever see a sunset, you might notice the sky can look red or orange too! Thank you for asking such a curious question!\n"
          ]
        }
      ]
    },
    {
      "cell_type": "code",
      "source": [
        "resp= client.responses.create(\n",
        "    model=\"gpt-4.1\",\n",
        "    instructions=\"You are a university assistant. Your answer must be detailed and technical, warm and humble \",\n",
        "    input=\"Why is the sky blue?\"\n",
        ")\n",
        "print(resp.output_text)"
      ],
      "metadata": {
        "id": "hnpGZKcKuF_I",
        "outputId": "7d73e6b6-2172-4f3e-803a-1819a999525f",
        "colab": {
          "base_uri": "https://localhost:8080/"
        }
      },
      "execution_count": 20,
      "outputs": [
        {
          "output_type": "stream",
          "name": "stdout",
          "text": [
            "What a wonderful question—it’s a classic, and the answer involves some truly fascinating physics! The blue color of the sky is primarily due to a phenomenon called **Rayleigh scattering**. Let’s break down the process step by step:\n",
            "\n",
            "### 1. **Nature of Sunlight**\n",
            "Sunlight may appear white, but it is actually composed of light of many different wavelengths (colors), ranging from red (longer wavelength) through green and blue, to violet (shorter wavelength). Each color is characterized by its wavelength—blue light has a wavelength of about 450 nanometers, while red is around 700 nanometers.\n",
            "\n",
            "### 2. **Earth’s Atmosphere**\n",
            "The atmosphere is mainly composed of nitrogen and oxygen molecules. As sunlight passes through the atmosphere, it interacts with these tiny molecules.\n",
            "\n",
            "### 3. **Rayleigh Scattering**\n",
            "**Rayleigh scattering** occurs when the particles causing the scattering are much smaller than the wavelength of light (which is the case for molecules in our atmosphere). According to Rayleigh’s law, the intensity of scattered light is inversely proportional to the fourth power of the wavelength:\n",
            "\n",
            "\\[\n",
            "\\text{Scattering Intensity} \\propto \\frac{1}{\\lambda^4}\n",
            "\\]\n",
            "\n",
            "This means shorter wavelengths (blue and violet light) are scattered much more strongly than longer wavelengths (red light).\n",
            "\n",
            "### 4. **Why Blue and Not Violet?**\n",
            "Although violet light is scattered even more than blue, our eyes are less sensitive to violet, and a lot of violet light is absorbed by the upper atmosphere (the ozone layer absorbs a significant portion of it). Thus, the sky appears blue to us.\n",
            "\n",
            "### 5. **Looking Directly at the Sun**\n",
            "When you look directly at the Sun (please don’t do this without protection!), the light has passed through less atmosphere and it looks white. But when you look at places away from the Sun, you are seeing this scattered blue light coming from all over the sky.\n",
            "\n",
            "### **Summary**\n",
            "To sum up—**the sky appears blue because molecules in the atmosphere scatter the short wavelengths (blue and violet) of sunlight much more than the longer wavelengths (red and yellow). Our eyes see more of the blue, making the sky look blue.**\n",
            "\n",
            "If you have any more questions about light, color perception, or atmospheric phenomena, please don’t hesitate to ask! I’d be delighted to help you explore further.\n"
          ]
        }
      ]
    },
    {
      "cell_type": "code",
      "source": [],
      "metadata": {
        "id": "PEQr1rLZwzkY"
      },
      "execution_count": null,
      "outputs": []
    },
    {
      "cell_type": "code",
      "source": [
        "term=\"What are antibiotics\"\n",
        "resp = client.responses.create(\n",
        "    model=\"gpt-4.1\",\n",
        "    instructions=\"You are a university assistant. Your answer must be detailed and technical, warm and humble \",\n",
        "    input=term\n",
        ")\n",
        "print(resp.output_text)"
      ],
      "metadata": {
        "id": "pqAwdPP9uxiS",
        "outputId": "d91cb0aa-72fa-4e93-bf3d-d7f954156c95",
        "colab": {
          "base_uri": "https://localhost:8080/"
        }
      },
      "execution_count": 22,
      "outputs": [
        {
          "output_type": "stream",
          "name": "stdout",
          "text": [
            "Absolutely, I’d be happy to explain!\n",
            "\n",
            "**Antibiotics** are a class of antimicrobial agents specifically designed to fight bacterial infections. The term comes from the Greek words \"anti\" (against) and \"bios\" (life), referring to their ability to combat life forms—in this case, harmful bacteria—within the body.\n",
            "\n",
            "### **How Do Antibiotics Work?**\n",
            "\n",
            "Antibiotics function primarily by targeting specific features of bacterial cells that are different from human cells. This selective targeting makes them effective against bacteria without (usually) harming human tissues. Their mechanisms of action generally fall into a few main categories:\n",
            "\n",
            "- **Inhibition of Cell Wall Synthesis:** Some antibiotics, such as penicillins and cephalosporins, interfere with the production of the bacterial cell wall. Since human cells don’t have cell walls, these antibiotics are generally safe for human tissues.\n",
            "- **Inhibition of Protein Synthesis:** Antibiotics like tetracyclines and macrolides bind to bacterial ribosomes, disrupting protein production. Bacterial ribosomes are structurally different from those in human cells, allowing for selective targeting.\n",
            "- **Inhibition of Nucleic Acid Synthesis:** Drugs such as fluoroquinolones interfere with the DNA replication process in bacteria.\n",
            "- **Disruption of Cell Membrane Function:** Some antibiotics, like polymyxins, disrupt the bacterial cell membrane, leading to cell death.\n",
            "- **Inhibition of Metabolic Pathways:** Some antibiotics, like sulfonamides, inhibit enzymes involved in crucial bacterial metabolic pathways.\n",
            "\n",
            "### **Types of Antibiotics**\n",
            "\n",
            "Antibiotics are often categorized by their spectrum of activity and their chemical structure:\n",
            "\n",
            "- **Broad-spectrum antibiotics** (e.g., amoxicillin, tetracycline): Effective against a wide range of bacteria, both Gram-positive and Gram-negative.\n",
            "- **Narrow-spectrum antibiotics** (e.g., isoniazid): Target specific types of bacteria.\n",
            "\n",
            "### **What Don’t Antibiotics Do?**\n",
            "\n",
            "A crucial point: antibiotics are *not* effective against **viral**, **fungal**, or **parasitic** infections. They are specifically designed to act on bacteria. The misuse of antibiotics—such as taking them for viral infections like the common cold or flu—can contribute to the development of **antibiotic resistance**.\n",
            "\n",
            "### **Antibiotic Resistance**\n",
            "\n",
            "With widespread and sometimes improper use of antibiotics, many bacteria have evolved mechanisms to withstand these drugs—a phenomenon called antibiotic resistance. This is a global public health threat, making previously treatable infections harder (or sometimes impossible) to cure.\n",
            "\n",
            "### **Conclusion**\n",
            "\n",
            "In summary, antibiotics are powerful tools in our arsenal against bacterial infections, having revolutionized modern medicine since their discovery (with penicillin by Alexander Fleming in 1928 being a famous example). However, their use must be judicious and guided by appropriate medical advice, both to ensure effectiveness and to prevent the rise of resistant strains.\n",
            "\n",
            "If you’d like more detailed examples, mechanisms, or historical insights—or have a specific antibiotic in mind—please let me know!\n"
          ]
        }
      ]
    },
    {
      "cell_type": "code",
      "source": [
        "input_text = \"\"\"\n",
        "Classify the text as neutral, negative, or positive. your response should be one word.\n",
        "Text: vacation में बहोत zyada मज़े आये, hola adios.\n",
        "Sentiment:\n",
        "\"\"\""
      ],
      "metadata": {
        "id": "nSmBGwMcw2oj"
      },
      "execution_count": 51,
      "outputs": []
    },
    {
      "cell_type": "code",
      "source": [
        "response = client.responses.create(\n",
        "    model=\"gpt-4.1\",\n",
        "    instructions=\"You are an expert in sentiment analysis, with a strong ability to accurately identify the tone of a text. if you do not know , let me know I am unable to detect the tone\",\n",
        "    input=input_text\n",
        ")"
      ],
      "metadata": {
        "id": "JwkSVkUjvRUQ"
      },
      "execution_count": 55,
      "outputs": []
    },
    {
      "cell_type": "code",
      "source": [
        "print(response.output_text)"
      ],
      "metadata": {
        "id": "zWl_fgHPw5B5",
        "outputId": "1b6194ad-c4df-4f46-d5e7-c9ff8e5e4012",
        "colab": {
          "base_uri": "https://localhost:8080/"
        }
      },
      "execution_count": 53,
      "outputs": [
        {
          "output_type": "stream",
          "name": "stdout",
          "text": [
            "Positive\n"
          ]
        }
      ]
    },
    {
      "cell_type": "code",
      "source": [],
      "metadata": {
        "id": "IldrnxiAw9v6"
      },
      "execution_count": null,
      "outputs": []
    }
  ]
}