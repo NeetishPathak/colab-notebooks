{
  "nbformat": 4,
  "nbformat_minor": 0,
  "metadata": {
    "colab": {
      "provenance": [],
      "include_colab_link": true
    },
    "kernelspec": {
      "name": "python3",
      "display_name": "Python 3"
    },
    "language_info": {
      "name": "python"
    }
  },
  "cells": [
    {
      "cell_type": "markdown",
      "metadata": {
        "id": "view-in-github",
        "colab_type": "text"
      },
      "source": [
        "<a href=\"https://colab.research.google.com/github/NeetishPathak/colab-notebooks/blob/main/final_project.ipynb\" target=\"_parent\"><img src=\"https://colab.research.google.com/assets/colab-badge.svg\" alt=\"Open In Colab\"/></a>"
      ]
    },
    {
      "cell_type": "code",
      "execution_count": null,
      "metadata": {
        "id": "4Gl-e7ArcfgG"
      },
      "outputs": [],
      "source": [
        "%pip install requests crewai crewai[tools] openai termcolor"
      ]
    },
    {
      "cell_type": "code",
      "source": [
        "!wget https://raw.githubusercontent.com/NeetishPathak/dbops-agentic-crew/main/app/resources/pdfs/Redis.pdf -O Redis.pdf"
      ],
      "metadata": {
        "id": "NNayoEG40Y6t"
      },
      "execution_count": null,
      "outputs": []
    },
    {
      "cell_type": "code",
      "source": [
        "import os\n",
        "from google.colab import userdata\n",
        "os.environ['OPENAI_API_KEY'] = userdata.get('OPENAI_API_KEY')"
      ],
      "metadata": {
        "id": "fxH8CdGQ1ZYh"
      },
      "execution_count": null,
      "outputs": []
    },
    {
      "cell_type": "markdown",
      "source": [
        "### GCP Setup for Agents to use later"
      ],
      "metadata": {
        "id": "A3rMe_8n41Xf"
      }
    },
    {
      "cell_type": "code",
      "source": [
        "## We use GCP to setup a vm . Some presteps to setup a GCP project resources\n",
        "\n",
        "# Install the CLI\n",
        "!apt-get install -y lsb-release\n",
        "!curl -s https://packages.cloud.google.com/apt/doc/apt-key.gpg | apt-key add -\n",
        "!echo \"deb http://packages.cloud.google.com/apt cloud-sdk main\" | tee -a /etc/apt/sources.list.d/google-cloud-sdk.list\n",
        "!apt-get update -q\n",
        "!apt-get install -y google-cloud-sdk\n"
      ],
      "metadata": {
        "id": "sAaz70tj4kC7"
      },
      "execution_count": null,
      "outputs": []
    },
    {
      "cell_type": "code",
      "source": [
        "## Setup terraform\n",
        "!wget -O - https://apt.releases.hashicorp.com/gpg | gpg --dearmor -o /usr/share/keyrings/hashicorp-archive-keyring.gpg\n",
        "!echo \"deb [arch=$(dpkg --print-architecture) signed-by=/usr/share/keyrings/hashicorp-archive-keyring.gpg] https://apt.releases.hashicorp.com $(grep -oP '(?<=UBUNTU_CODENAME=).*' /etc/os-release || lsb_release -cs) main\" | tee /etc/apt/sources.list.d/hashicorp.list\n",
        "!apt update && apt install terraform\n",
        "!terraform version"
      ],
      "metadata": {
        "id": "sSFlFbUcRZtY"
      },
      "execution_count": null,
      "outputs": []
    },
    {
      "cell_type": "code",
      "source": [
        "# Authenticate the user to use GCP\n",
        "from google.colab import auth\n",
        "auth.authenticate_user()"
      ],
      "metadata": {
        "id": "h_myLHrX5HKH"
      },
      "execution_count": null,
      "outputs": []
    },
    {
      "cell_type": "code",
      "source": [
        "my_gcp_project_name = userdata.get('MY_GCP_PROJECT')\n",
        "!gcloud config set project {my_gcp_project_name}\n",
        "\n",
        "!gcloud services enable compute.googleapis.com"
      ],
      "metadata": {
        "id": "gMdIbs6c5Q2d"
      },
      "execution_count": null,
      "outputs": []
    },
    {
      "cell_type": "code",
      "source": [
        "!gcloud iam service-accounts create terraform-agent --display-name=\"Terraform Agent\"\n",
        "\n",
        "for role in [\n",
        "    \"roles/compute.admin\",\n",
        "    \"roles/iam.serviceAccountUser\",\n",
        "    \"roles/serviceusage.serviceUsageAdmin\"\n",
        "]:\n",
        "    !gcloud projects add-iam-policy-binding {my_gcp_project_name} \\\n",
        "        --member=\"serviceAccount:terraform-agent@{my_gcp_project_name}.iam.gserviceaccount.com\" \\\n",
        "        --role=\"{role}\" --quiet\n",
        "\n",
        "!gcloud iam service-accounts keys create terraform-agent-key.json \\\n",
        "    --iam-account=terraform-agent@{my_gcp_project_name}.iam.gserviceaccount.com"
      ],
      "metadata": {
        "id": "KCnjqZalAC93"
      },
      "execution_count": null,
      "outputs": []
    },
    {
      "cell_type": "code",
      "source": [
        "# Terraform Config + CrewAI Tooling: Provision GCP VM with Docker Installed (with Colab Secrets Support)\n",
        "\n",
        "# --- Terraform Config (main.tf) ---\n",
        "main_tf = \"\"\"\n",
        "provider \"google\" {\n",
        "  project     = var.project\n",
        "  region      = var.region\n",
        "  zone        = var.zone\n",
        "  credentials = file(var.credentials_file)\n",
        "}\n",
        "\n",
        "resource \"google_compute_instance\" \"docker_vm\" {\n",
        "  name         = var.instance_name\n",
        "  machine_type = var.machine_type\n",
        "  zone         = var.zone\n",
        "\n",
        "  boot_disk {\n",
        "    initialize_params {\n",
        "      image = \"ubuntu-os-cloud/ubuntu-2204-lts\"\n",
        "      size  = 30\n",
        "    }\n",
        "  }\n",
        "\n",
        "  network_interface {\n",
        "    network = \"default\"\n",
        "    access_config {}\n",
        "  }\n",
        "\n",
        "  metadata_startup_script = <<-EOT\n",
        "    #!/bin/bash\n",
        "    curl -fsSL https://get.docker.com | sh\n",
        "  EOT\n",
        "}\n",
        "\"\"\"\n",
        "\n",
        "# --- Terraform Variables (variables.tf) ---\n",
        "variables_tf = \"\"\"\n",
        "variable \"project\" {}\n",
        "variable \"region\" { default = \"us-central1\" }\n",
        "variable \"zone\" { default = \"us-central1-a\" }\n",
        "variable \"credentials_file\" { default = \"account.json\" }\n",
        "variable \"instance_name\" { default = \"docker-agent-vm\" }\n",
        "variable \"machine_type\" { default = \"e2-micro\" }\n",
        "\"\"\"\n",
        "\n",
        "# --- CrewAI Tool: Terraform VM Creator (Colab Secrets) ---\n",
        "import subprocess\n",
        "import os, time\n",
        "from crewai.tools import BaseTool\n",
        "\n",
        "class GCPDockerVMTool(BaseTool):\n",
        "    def __init__(self, name=\"GCPDockerVMProvisioner\", description=\"Creates a GCP VM using Terraform with Docker pre-installed, loading service account from Colab secrets.\", **kwargs):\n",
        "        super().__init__(name=name, description=description, **kwargs)\n",
        "\n",
        "    def _run(self, input_type: dict) -> str:\n",
        "        try:\n",
        "            from google.colab import userdata  # Only available in Colab\n",
        "            tf_path=\"terraform\"\n",
        "\n",
        "            if os.path.exists(tf_path):\n",
        "              shutil.rmtree(tf_path)\n",
        "\n",
        "            os.makedirs(\"terraform\", exist_ok=True)\n",
        "\n",
        "            # Write Terraform files\n",
        "            with open(os.path.join(tf_path, \"main.tf\"), \"w\") as f:\n",
        "                f.write(main_tf)\n",
        "            with open(os.path.join(tf_path, \"variables.tf\"), \"w\") as f:\n",
        "                f.write(variables_tf)\n",
        "\n",
        "            project_id = userdata.get(\"MY_GCP_PROJECT\")\n",
        "\n",
        "            if not project_id:\n",
        "                return \"❌ Missing required secrets: MY_GCP_PROJECT\"\n",
        "\n",
        "            # Load service account secrets from\n",
        "            key_file_path = \"terraform-agent-key.json\"\n",
        "\n",
        "            if not os.path.exists(key_file_path):\n",
        "                return f\"❌ Key file '{key_file_path}' does not exist.\"\n",
        "\n",
        "            with open(key_file_path, \"r\") as f:\n",
        "                key_data = f.read().strip()\n",
        "\n",
        "            if not key_data or not key_data.startswith('{'):\n",
        "                return \"❌ Key file is empty or not a valid JSON key.\"\n",
        "\n",
        "            credentials_path = os.path.join(tf_path, \"account.json\")\n",
        "            with open(credentials_path, \"w\") as f:\n",
        "                f.write(key_data)\n",
        "\n",
        "            # Create terraform.tfvars\n",
        "            with open(os.path.join(tf_path, \"terraform.tfvars\"), \"w\") as f:\n",
        "                f.write(f\"\"\"\n",
        "project = \"{project_id}\"\n",
        "region = \"us-central1\"\n",
        "zone = \"us-central1-a\"\n",
        "credentials_file = \"account.json\"\n",
        "\"\"\")\n",
        "            apply_init = subprocess.run([\"terraform\", \"init\"], cwd=tf_path, check=True, capture_output=True, text=True)\n",
        "            if apply_init.returncode != 0:\n",
        "                return f\"❌ Terraform init failed:\\nSTDOUT:\\n{apply_init.stdout}\\nSTDERR:\\n{apply_init.stderr}\"\n",
        "\n",
        "            apply_proc = subprocess.run([\"terraform\", \"apply\", \"-auto-approve\"], cwd=tf_path, check=True, capture_output=True, text=True)\n",
        "            if apply_proc.returncode != 0:\n",
        "                if \"Error \" in apply_proc.stderr and \"already exists\" in apply_proc.stderr:\n",
        "                    return \"⚠️ VM already exists — skipping create.\"\n",
        "                return f\"❌ Terraform apply failed:\\nSTDOUT:\\n{apply_proc.stdout}\\nSTDERR:\\n{apply_proc.stderr}\"\n",
        "\n",
        "            # Optional: Check if Docker is working\n",
        "            # check_docker = subprocess.run(\n",
        "            #     [\"gcloud\", \"compute\", \"ssh\", \"docker-agent-vm\", \"--zone\", \"us-central1-a\",\n",
        "            #      \"--command\", \"docker --version\"],\n",
        "            #     capture_output=True, text=True\n",
        "            # )\n",
        "            # if check_docker.returncode != 0:\n",
        "            #     return f\"⚠️ VM created, but Docker check failed:\\n{check_docker.stderr}\"\n",
        "\n",
        "            return f\"✅ GCP VM created with Docker installed.\\n\"\n",
        "\n",
        "\n",
        "        except subprocess.CalledProcessError as e:\n",
        "            return f\"❌ Terraform failed: {e}\"\n",
        "        except Exception as e:\n",
        "            return f\"❌ Unexpected error: {str(e)}\"\n",
        "\n",
        "gcp_docker_vm_tool = GCPDockerVMTool(description=\"Deploys a VM in GCP with docker installed.\")\n"
      ],
      "metadata": {
        "id": "vc3Dt9QtDTuT"
      },
      "execution_count": null,
      "outputs": []
    },
    {
      "cell_type": "code",
      "source": [
        "# Crew AI Tools\n",
        "\n",
        "from crewai_tools import FileWriterTool, PDFSearchTool\n",
        "\n",
        "from pathlib import Path\n",
        "import os\n",
        "import platform\n",
        "import subprocess\n",
        "import shutil\n",
        "import urllib.request\n",
        "\n",
        "# File Write Tools\n",
        "file_writer_tool = FileWriterTool()\n",
        "\n",
        "# PDF Search Tool\n",
        "pdf_file = \"Redis.pdf\"\n",
        "pdf_rag_search_tool = PDFSearchTool(pdf_file)\n",
        "\n",
        "\n"
      ],
      "metadata": {
        "id": "J9L1twyzz_YT"
      },
      "execution_count": null,
      "outputs": []
    },
    {
      "cell_type": "code",
      "source": [
        "# Custom CrewAI Tools\n",
        "from crewai.tools import BaseTool\n",
        "\n",
        "## Kind Installer Tool\n",
        "# Kind is a k8s installer for a node\n",
        "class KindInstaller(BaseTool):\n",
        "  def __init__(self, name=\"KindInstaller\", description=\"Installs Kind...\", **kwargs):\n",
        "        super().__init__(name=name, description=description, **kwargs)\n",
        "\n",
        "  def _run(self, input_type: dict) -> str:\n",
        "    try:\n",
        "\n",
        "      if shutil.which(\"kind\"):\n",
        "        return \"✅ 'kind' is already installed.\"\n",
        "\n",
        "      system = platform.system().lower()\n",
        "\n",
        "      if system not in [\"linux\", \"darwin\"]:\n",
        "        return f\"❌ Unsupported OS: {system}. Manual install required.\"\n",
        "\n",
        "      # Download the latest Kind binary\n",
        "      arch = subprocess.check_output([\"uname\", \"-m\"]).decode().strip()\n",
        "      arch_map = {\n",
        "        \"linux\": {\"x86_64\": \"amd64\", \"aarch64\": \"arm64\"},\n",
        "        \"darwin\": {\"x86_64\": \"amd64\", \"arm64\": \"arm64\"}\n",
        "      }\n",
        "      arch_name = arch_map.get(system, {}).get(arch)\n",
        "      if not arch_name:\n",
        "        return f\"❌ Unsupported architecture: {arch} on {system}.\"\n",
        "      url = f\"https://kind.sigs.k8s.io/dl/v0.29.0/kind-{system}-{arch_name}\"\n",
        "\n",
        "      tmp_kind_file =  os.path.join(os.getcwd(), \"kind\")\n",
        "      urllib.request.urlretrieve(url, tmp_kind_file)\n",
        "\n",
        "      # Make executable\n",
        "      subprocess.run([\"chmod\", \"+x\", tmp_kind_file], check=True)\n",
        "      # Move to a directory in PATH\n",
        "      os.environ[\"PATH\"] = f\"{os.getcwd()}:{os.environ['PATH']}\"\n",
        "\n",
        "      return \"✅ Kind has been installed successfully.\"\n",
        "\n",
        "    except Exception as e:\n",
        "      return f\"❌ Failed to install Kind: {e}\"\n",
        "\n",
        "  def _arun(self, input: str = \"\") -> str:\n",
        "      raise NotImplementedError(\"Async version not implemented.\")\n",
        "\n",
        "\n",
        "kind_cluster_tool = KindInstaller(description=\"Installs a Kind Tool for Kubernetes deployments.\")\n"
      ],
      "metadata": {
        "id": "oe40bZI0yPiv"
      },
      "execution_count": null,
      "outputs": []
    },
    {
      "cell_type": "code",
      "source": [
        "# CrewAI Agents\n",
        "\n",
        "from crewai import Agent\n",
        "\n",
        "## Agents\n",
        "architect = Agent(\n",
        "  role=\"{data_store} System Architect\",\n",
        "  goal=\"Design optimal {data_store} cluster configurations tailored to user workloads and environments.\",\n",
        "  backstory=(\"You are a principal system architect specializing in distributed data stores, particularly {data_store}. \"\n",
        "        \"You are an expert in {data_store} internals and Kubernetes-ready deployments.\"\n",
        "        \"Use the tool to get the guidance on redis configuration. Do not use external knowledge beyond what is contained in the pdf file {pdf_file} \"\n",
        "        \"Pass your question as a plain string to the 'query' parameter — for example: \"\n",
        "        \"{ \\\"query\\\": \\\"optimal Redis config for 100 ops/sec workload\\\" }. \"\n",
        "        \"Do not include 'description' or 'type' keys. Do not wrap the string inside another dictionary.\"\n",
        "        \"Just say, your capacity is limited to certain use cases only at the moment if the query is outside  the scope of the pdf.\"),\n",
        "  verbose=False,\n",
        "  tools=[pdf_rag_search_tool],\n",
        "  allow_delegation=False,\n",
        ")\n",
        "\n",
        "\n",
        "manifest_writer_agent = Agent(\n",
        "  role=\"{data_store} manifest Writer\",\n",
        "  goal=\"Vets and writes yaml configurations to the target directory.\",\n",
        "  backstory=(\"You are a dedicated writer agent specializing in {data_store} configurations. \"\n",
        "        \"You leverage the File Writer Tool to create and update configuration files as needed.\"),\n",
        "  verbose=False,\n",
        "  tools=[file_writer_tool],\n",
        "  allow_delegation=False,\n",
        ")\n",
        "\n",
        "infra_docker_vm_agent = Agent(\n",
        "    role=\"Infrastructure Automator\",\n",
        "    goal=\"Provision a GCP VM with Docker installed using Terraform.\",\n",
        "    backstory=(\"You are an experienced infra admin responsible for setting up vm on Google Cloud Platform using terraforms\"\n",
        "              \"You ensure the vm is properly setup, docker is installed which is important for kind k8s cluster to be installed\"\n",
        "              \"When using the tool, just pass the terraform_directory_path i.e. {terraform_dir} as a string that you have received as input parameter \"),\n",
        "    verbose=False,\n",
        "    tools=[gcp_docker_vm_tool],\n",
        "    allow_delegation=False\n",
        ")\n",
        "\n",
        "\n",
        "infra_k8s_kind_agent = Agent(\n",
        "  role=\"Infra Admin managing kind cluster\",\n",
        "  goal = \"Manage the kind cluster setup and ensure the environment is ready for deployment.\",\n",
        "  backstory=(\"You are an experienced infra admin responsible for setting up and managing the kind cluster. \"\n",
        "        \"You ensure that the environment is properly configured and ready for deployment of {data_store} configurations.\"),\n",
        "  verbose=False,\n",
        "  tools=[kind_cluster_tool],\n",
        "  allow_delegation=False\n",
        ")\n",
        "\n",
        "\n"
      ],
      "metadata": {
        "id": "0bEjJDChcj5E"
      },
      "execution_count": null,
      "outputs": []
    },
    {
      "cell_type": "code",
      "source": [
        "from crewai import Task\n",
        "\n",
        "## Tasks\n",
        "\n",
        "# ----------------------------------------------------\n",
        "# Define the architect's task to suggest a cluster design\n",
        "# ----------------------------------------------------\n",
        "design_cluster = Task(\n",
        "    description=(\n",
        "        \"Design an optimal {data_store} architecture for this workload:\\n\"\n",
        "        \"{workload_description}\\n\\n\"\n",
        "        \"Respond in this exact format:\\n\"\n",
        "        \"---\\n\"\n",
        "        \"Architecture Summary:\\n<brief text>\\n\\n\"\n",
        "        \"---\\n\"\n",
        "        \"Key Decisions:\\n- <bullet1>\\n- <bullet2>\\n\\n\"\n",
        "        \"```yaml\\n<valid Kubernetes YAML>\\n```\\n\"\n",
        "        \"Do not add any extra commentary.\"\n",
        "    ),\n",
        "    expected_output=\"A summary, key decisions, and a valid Kubernetes YAML block.\",\n",
        "    agent=architect,\n",
        ")\n",
        "\n",
        "# ----------------------------------------------------\n",
        "# Define the writer's task to create a manifest writer\n",
        "# ----------------------------------------------------\n",
        "write_manifest = Task(\n",
        "    description=(\n",
        "        \"Validate the Kubernetes YAML and write it to `{target_directory}/{data_store}.yaml`.\\n\"\n",
        "        \"Use the File Writer Tool.\\n\"\n",
        "        \"If the file exists, overwrite it.\\n\"\n",
        "        \"**Important**: The YAML must be valid and ready for `kubectl apply`.\"\n",
        "    ),\n",
        "    expected_output=\"Confirmation that the YAML was successfully written.\",\n",
        "    agent=manifest_writer_agent,\n",
        "    context=[design_cluster]\n",
        ")\n",
        "\n",
        "# ----------------------------------------------------\n",
        "# Define the Infra's setup task to create a docker vm agent\n",
        "# ----------------------------------------------------\n",
        "infra_vm_setup = Task(\n",
        "    description=(\n",
        "        \"Set up a vm on gcp \\n\"\n",
        "        \"Use the infra_docker_vm_agent Tool. Pass a directory as a string to store terraform configurations\\n\"\n",
        "        \"If already set up, confirm readiness. Check docker is ready after installation is complete\\n\"\n",
        "        \"Provide access instructions if setup is successful.\"\n",
        "    ),\n",
        "    expected_output=\"Confirmation that the vm with docker is ready for k8s deployment.\",\n",
        "    agent=infra_docker_vm_agent,\n",
        ")\n",
        "\n",
        "\n",
        "# ----------------------------------------------------\n",
        "# Define the Infra's setup task to create a kind k8s cluster\n",
        "# ----------------------------------------------------\n",
        "infra_k8s_setup = Task(\n",
        "    description=(\n",
        "        \"Set up and validate a kind cluster for deploying {data_store}.\\n\"\n",
        "        \"Use the Kind Installer Tool.\\n\"\n",
        "        \"If already set up, confirm readiness.\\n\"\n",
        "        \"Provide access instructions if setup is successful.\"\n",
        "    ),\n",
        "    expected_output=\"Confirmation that the kind cluster is ready for deployment.\",\n",
        "    agent=infra_k8s_kind_agent,\n",
        ")"
      ],
      "metadata": {
        "id": "8Ta8lYX3cqdz"
      },
      "execution_count": null,
      "outputs": []
    },
    {
      "cell_type": "code",
      "source": [
        "from crewai import Crew, Process\n",
        "\n",
        "\n",
        "## Crew\n",
        "\n",
        "crew = Crew(\n",
        "  # agents=[architect, manifest_writer_agent, infra_docker_vm_agent, infra_k8s_kind_agent],\n",
        "  agents=[infra_docker_vm_agent],\n",
        "  # tasks=[design_cluster, write_manifest, infra_vm_setup, infra_k8s_setup],\n",
        "  tasks=[infra_vm_setup],\n",
        "  process=Process.sequential,\n",
        "  verbose=True\n",
        ")"
      ],
      "metadata": {
        "id": "qDqAT4nxdAvO"
      },
      "execution_count": null,
      "outputs": []
    },
    {
      "cell_type": "code",
      "source": [
        "import os\n",
        "from pathlib import Path\n",
        "from termcolor import colored\n",
        "import warnings\n",
        "\n",
        "warnings.filterwarnings(\"ignore\", category=UserWarning, module=\"pydantic\")\n",
        "\n",
        "inputs = {\n",
        "  \"data_store\": \"redis\",\n",
        "  \"workload_description\": (\n",
        "    \"A low-volume website. \"\n",
        "    \"It handles 100 ops/sec with 80% reads, 20% writes. \"\n",
        "  ),\n",
        "  \"target_directory\": \"k8s_configs\",\n",
        "  \"target_file\": \"redis.yaml\",\n",
        "  \"pdf_file\": \"Redis.pdf\",\n",
        "  \"terraform_dir\" : \"terraform\"\n",
        "}\n",
        "\n",
        "def run_sync_crew():\n",
        "    \"\"\"\n",
        "    Kick off the crew process with the provided inputs.\n",
        "    \"\"\"\n",
        "    crew.kickoff(inputs=inputs)\n",
        "\n",
        "\n",
        "print(colored(\"🚀 Crew execution started...\\n\", \"yellow\"))\n",
        "\n",
        "run_sync_crew()\n",
        "\n",
        "print(colored(\"\\n🧠 All Tasks Finished  \", \"green\"))"
      ],
      "metadata": {
        "id": "V8Fua7BPdx4-"
      },
      "execution_count": null,
      "outputs": []
    },
    {
      "cell_type": "markdown",
      "source": [
        "## Validation Steps"
      ],
      "metadata": {
        "id": "AnX5u2gha6C_"
      }
    },
    {
      "cell_type": "code",
      "source": [
        "!gcloud compute ssh docker-agent-vm --zone us-central1-a --command \"uname -a\""
      ],
      "metadata": {
        "id": "AVoqQTEYGg_O"
      },
      "execution_count": null,
      "outputs": []
    },
    {
      "cell_type": "code",
      "source": [
        "!gcloud compute ssh docker-agent-vm --zone us-central1-a --command \"docker --version\""
      ],
      "metadata": {
        "id": "M80pMfN7aXPe"
      },
      "execution_count": null,
      "outputs": []
    },
    {
      "cell_type": "code",
      "source": [
        "!gcloud compute ssh docker-agent-vm --zone us-central1-a --command \"hostname; docker ps \""
      ],
      "metadata": {
        "id": "jUgzAmfgbWWF"
      },
      "execution_count": null,
      "outputs": []
    },
    {
      "cell_type": "code",
      "source": [
        "!gcloud compute ssh docker-agent-vm --zone us-central1-a --command \"docker run -d -p 6379:6379 --name redis redis\""
      ],
      "metadata": {
        "id": "VSlJ7x-0H03q"
      },
      "execution_count": null,
      "outputs": []
    },
    {
      "cell_type": "code",
      "source": [
        "!gcloud compute ssh docker-agent-vm --zone us-central1-a --command \"hostname; docker ps \""
      ],
      "metadata": {
        "id": "_Hb0pgg7IYEG"
      },
      "execution_count": null,
      "outputs": []
    },
    {
      "cell_type": "code",
      "source": [
        "!gcloud compute instances delete docker-agent-vm"
      ],
      "metadata": {
        "id": "9w0DSVEGIdoi"
      },
      "execution_count": null,
      "outputs": []
    }
  ]
}