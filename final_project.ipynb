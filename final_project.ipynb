{
  "nbformat": 4,
  "nbformat_minor": 0,
  "metadata": {
    "colab": {
      "provenance": [],
      "include_colab_link": true
    },
    "kernelspec": {
      "name": "python3",
      "display_name": "Python 3"
    },
    "language_info": {
      "name": "python"
    }
  },
  "cells": [
    {
      "cell_type": "markdown",
      "metadata": {
        "id": "view-in-github",
        "colab_type": "text"
      },
      "source": [
        "<a href=\"https://colab.research.google.com/github/NeetishPathak/colab-notebooks/blob/main/final_project.ipynb\" target=\"_parent\"><img src=\"https://colab.research.google.com/assets/colab-badge.svg\" alt=\"Open In Colab\"/></a>"
      ]
    },
    {
      "cell_type": "code",
      "execution_count": null,
      "metadata": {
        "id": "4Gl-e7ArcfgG"
      },
      "outputs": [],
      "source": [
        "%pip install streamlit requests fastapi uvicorn crewai crewai[tools] openai termcolor yaspin"
      ]
    },
    {
      "cell_type": "code",
      "source": [
        "!wget https://raw.githubusercontent.com/NeetishPathak/dbops-agentic-crew/main/app/resources/pdfs/Redis.pdf -O Redis.pdf"
      ],
      "metadata": {
        "id": "NNayoEG40Y6t"
      },
      "execution_count": null,
      "outputs": []
    },
    {
      "cell_type": "code",
      "source": [
        "from google.colab import userdata\n",
        "os.environ['OPENAI_API_KEY'] = userdata.get('OPENAI_API_KEY')"
      ],
      "metadata": {
        "id": "fxH8CdGQ1ZYh"
      },
      "execution_count": 22,
      "outputs": []
    },
    {
      "cell_type": "code",
      "source": [
        "# Crew AI Tools\n",
        "\n",
        "from crewai_tools import FileWriterTool, PDFSearchTool\n",
        "from crewai.tools import BaseTool\n",
        "from pydantic import BaseModel\n",
        "\n",
        "from pathlib import Path\n",
        "import os\n",
        "import platform\n",
        "import subprocess\n",
        "import shutil\n",
        "import urllib.request\n",
        "\n",
        "# File Write Tools\n",
        "file_writer_tool = FileWriterTool()\n",
        "\n",
        "# PDF Search Tool\n",
        "pdf_file = \"Redis.pdf\"\n",
        "pdf_rag_search_tool = PDFSearchTool(pdf_file)\n",
        "\n",
        "\n",
        "# Infra Tools\n",
        "\n",
        "class KindInstaller(BaseTool):\n",
        "  def __init__(self, name=\"KindInstaller\", description=\"Installs Kind...\", **kwargs):\n",
        "        super().__init__(name=name, description=description, **kwargs)\n",
        "\n",
        "  def _run(self, input_type: dict) -> str:\n",
        "    try:\n",
        "      # if not shutil.which(\"docker\"):\n",
        "      #   return \"❌ Docker is not installed. Please install Docker first.\"\n",
        "\n",
        "      if shutil.which(\"kind\"):\n",
        "        return \"✅ 'kind' is already installed.\"\n",
        "\n",
        "      system = platform.system().lower()\n",
        "\n",
        "      if system not in [\"linux\", \"darwin\"]:\n",
        "        return f\"❌ Unsupported OS: {system}. Manual install required.\"\n",
        "\n",
        "      # Download the latest Kind binary\n",
        "      arch = subprocess.check_output([\"uname\", \"-m\"]).decode().strip()\n",
        "      arch_map = {\n",
        "        \"linux\": {\"x86_64\": \"amd64\", \"aarch64\": \"arm64\"},\n",
        "        \"darwin\": {\"x86_64\": \"amd64\", \"arm64\": \"arm64\"}\n",
        "      }\n",
        "      arch_name = arch_map.get(system, {}).get(arch)\n",
        "      if not arch_name:\n",
        "        return f\"❌ Unsupported architecture: {arch} on {system}.\"\n",
        "      url = f\"https://kind.sigs.k8s.io/dl/v0.29.0/kind-{system}-{arch_name}\"\n",
        "\n",
        "      tmp_kind_file =  os.path.join(os.getcwd(), \"kind\")\n",
        "      urllib.request.urlretrieve(url, tmp_kind_file)\n",
        "\n",
        "      # Make executable\n",
        "      subprocess.run([\"chmod\", \"+x\", tmp_kind_file], check=True)\n",
        "      # Move to a directory in PATH\n",
        "      os.environ[\"PATH\"] = f\"{os.getcwd()}:{os.environ['PATH']}\"\n",
        "\n",
        "      return \"✅ Kind has been installed successfully.\"\n",
        "\n",
        "    except Exception as e:\n",
        "      return f\"❌ Failed to install Kind: {e}\"\n",
        "\n",
        "  def _arun(self, input: str = \"\") -> str:\n",
        "      raise NotImplementedError(\"Async version not implemented.\")\n",
        "\n",
        "\n",
        "kind_cluster_tool = KindInstaller(description=\"Installs a Kind Tool for Kubernetes deployments.\")"
      ],
      "metadata": {
        "id": "J9L1twyzz_YT"
      },
      "execution_count": null,
      "outputs": []
    },
    {
      "cell_type": "code",
      "source": [
        "# CrewAI Agents\n",
        "\n",
        "from crewai import Agent\n",
        "\n",
        "## Agents\n",
        "architect = Agent(\n",
        "  role=\"{data_store} System Architect\",\n",
        "  goal=\"Design optimal {data_store} cluster configurations tailored to user workloads and environments.\",\n",
        "  backstory=(\"You are a principal system architect specializing in distributed data stores, particularly {data_store}. \"\n",
        "        \"You are an expert in {data_store} internals and Kubernetes-ready deployments.\"\n",
        "        \"Use the tool to get the guidance on redis configuration. Do not use external knowledge beyond what is contained in the pdf file {pdf_file} \"\n",
        "        \"Pass your question as a plain string to the 'query' parameter — for example: \"\n",
        "        \"{ \\\"query\\\": \\\"optimal Redis config for 100 ops/sec workload\\\" }. \"\n",
        "        \"Do not include 'description' or 'type' keys. Do not wrap the string inside another dictionary.\"\n",
        "        \"Just say, your capacity is limited to certain use cases only at the moment if the query is outside  the scope of the pdf.\"),\n",
        "  verbose=False,\n",
        "  tools=[pdf_rag_search_tool],\n",
        "  allow_delegation=False,\n",
        ")\n",
        "\n",
        "\n",
        "manifest_writer_agent = Agent(\n",
        "  role=\"{data_store} manifest Writer\",\n",
        "  goal=\"Vets and writes yaml configurations to the target directory.\",\n",
        "  backstory=(\"You are a dedicated writer agent specializing in {data_store} configurations. \"\n",
        "        \"You leverage the File Writer Tool to create and update configuration files as needed.\"),\n",
        "  verbose=False,\n",
        "  tools=[file_writer_tool],\n",
        "  allow_delegation=False,\n",
        ")\n",
        "\n",
        "\n",
        "infra_admin_agent = Agent(\n",
        "  role=\"Infra Admin managing kind cluster\",\n",
        "  goal = \"Manage the kind cluster setup and ensure the environment is ready for deployment.\",\n",
        "  backstory=(\"You are an experienced infra admin responsible for setting up and managing the kind cluster. \"\n",
        "        \"You ensure that the environment is properly configured and ready for deployment of {data_store} configurations.\"),\n",
        "  verbose=False,\n",
        "  tools=[kind_cluster_tool],\n",
        "  allow_delegation=False\n",
        ")"
      ],
      "metadata": {
        "id": "0bEjJDChcj5E"
      },
      "execution_count": 44,
      "outputs": []
    },
    {
      "cell_type": "code",
      "source": [
        "from crewai import Task\n",
        "\n",
        "## Tasks\n",
        "\n",
        "# ----------------------------------------------------\n",
        "# Define the architect's task to suggest a cluster design\n",
        "# ----------------------------------------------------\n",
        "design_cluster = Task(\n",
        "    description=(\n",
        "        \"Design an optimal {data_store} architecture for this workload:\\n\"\n",
        "        \"{workload_description}\\n\\n\"\n",
        "        \"Respond in this exact format:\\n\"\n",
        "        \"---\\n\"\n",
        "        \"Architecture Summary:\\n<brief text>\\n\\n\"\n",
        "        \"---\\n\"\n",
        "        \"Key Decisions:\\n- <bullet1>\\n- <bullet2>\\n\\n\"\n",
        "        \"```yaml\\n<valid Kubernetes YAML>\\n```\\n\"\n",
        "        \"Do not add any extra commentary.\"\n",
        "    ),\n",
        "    expected_output=\"A summary, key decisions, and a valid Kubernetes YAML block.\",\n",
        "    agent=architect,\n",
        ")\n",
        "\n",
        "# ----------------------------------------------------\n",
        "# Define the writer's task to create a manifest writer\n",
        "# ----------------------------------------------------\n",
        "write_manifest = Task(\n",
        "    description=(\n",
        "        \"Validate the Kubernetes YAML and write it to `{target_directory}/{data_store}.yaml`.\\n\"\n",
        "        \"Use the File Writer Tool.\\n\"\n",
        "        \"If the file exists, overwrite it.\\n\"\n",
        "        \"**Important**: The YAML must be valid and ready for `kubectl apply`.\"\n",
        "    ),\n",
        "    expected_output=\"Confirmation that the YAML was successfully written.\",\n",
        "    agent=manifest_writer_agent,\n",
        "    context=[design_cluster]\n",
        ")\n",
        "\n",
        "# ----------------------------------------------------\n",
        "# Define the Infra's setup task to create a manifest writer\n",
        "# ----------------------------------------------------\n",
        "infra_setup = Task(\n",
        "    description=(\n",
        "        \"Set up and validate a kind cluster for deploying {data_store}.\\n\"\n",
        "        \"Use the Kind Installer Tool.\\n\"\n",
        "        \"If already set up, confirm readiness.\\n\"\n",
        "        \"Provide access instructions if setup is successful.\"\n",
        "    ),\n",
        "    expected_output=\"Confirmation that the kind cluster is ready for deployment.\",\n",
        "    agent=infra_admin_agent,\n",
        ")"
      ],
      "metadata": {
        "id": "8Ta8lYX3cqdz"
      },
      "execution_count": 45,
      "outputs": []
    },
    {
      "cell_type": "code",
      "source": [
        "from crewai import Crew, Process\n",
        "\n",
        "\n",
        "## Crew\n",
        "\n",
        "crew = Crew(\n",
        "  agents=[architect, manifest_writer_agent, infra_admin_agent],\n",
        "  tasks=[design_cluster, write_manifest, infra_setup],\n",
        "  process=Process.sequential,\n",
        "  verbose=True\n",
        ")"
      ],
      "metadata": {
        "id": "qDqAT4nxdAvO"
      },
      "execution_count": 46,
      "outputs": []
    },
    {
      "cell_type": "code",
      "source": [
        "import os\n",
        "from pathlib import Path\n",
        "from termcolor import colored\n",
        "import warnings\n",
        "\n",
        "warnings.filterwarnings(\"ignore\", category=UserWarning, module=\"pydantic\")\n",
        "\n",
        "inputs = {\n",
        "  \"data_store\": \"redis\",\n",
        "  \"workload_description\": (\n",
        "    \"A low-volume website. \"\n",
        "    \"It handles 100 ops/sec with 80% reads, 20% writes. \"\n",
        "  ),\n",
        "  \"target_directory\": \"k8s_configs\",\n",
        "  \"target_file\": \"redis.yaml\",\n",
        "  \"pdf_file\": \"Redis.pdf\"\n",
        "}\n",
        "\n",
        "def run_sync_crew():\n",
        "    \"\"\"\n",
        "    Kick off the crew process with the provided inputs.\n",
        "    \"\"\"\n",
        "    crew.kickoff(inputs=inputs)\n",
        "\n",
        "\n",
        "print(colored(\"🚀 Crew execution started...\\n\", \"yellow\"))\n",
        "\n",
        "run_sync_crew()\n",
        "\n",
        "print(colored(\"\\n🧠 All Tasks Finished  \", \"green\"))"
      ],
      "metadata": {
        "id": "V8Fua7BPdx4-"
      },
      "execution_count": null,
      "outputs": []
    },
    {
      "cell_type": "code",
      "source": [
        "# Install the CLI\n",
        "!apt-get install -y lsb-release\n",
        "!curl -s https://packages.cloud.google.com/apt/doc/apt-key.gpg | apt-key add -\n",
        "!echo \"deb http://packages.cloud.google.com/apt cloud-sdk main\" | tee -a /etc/apt/sources.list.d/google-cloud-sdk.list\n",
        "!apt-get update -q\n",
        "!apt-get install -y google-cloud-sdk\n"
      ],
      "metadata": {
        "id": "H-bNl6Lo8_vy"
      },
      "execution_count": null,
      "outputs": []
    },
    {
      "cell_type": "code",
      "source": [
        "from google.colab import auth\n",
        "auth.authenticate_user()"
      ],
      "metadata": {
        "id": "gIyjmQfc9B39"
      },
      "execution_count": 72,
      "outputs": []
    },
    {
      "cell_type": "code",
      "source": [
        "!gcloud config set project my-user-admin-project"
      ],
      "metadata": {
        "id": "KxJQ6DZ5-uWw"
      },
      "execution_count": null,
      "outputs": []
    },
    {
      "cell_type": "code",
      "source": [
        "!gcloud services enable compute.googleapis.com --quiet"
      ],
      "metadata": {
        "id": "1mfio7jKF-FW"
      },
      "execution_count": 99,
      "outputs": []
    },
    {
      "cell_type": "code",
      "source": [
        "!gcloud config set compute/zone us-central1-a"
      ],
      "metadata": {
        "id": "X2UDqjNs-wan"
      },
      "execution_count": null,
      "outputs": []
    },
    {
      "cell_type": "code",
      "source": [
        "!gcloud compute instances create redis-agent \\\n",
        "  --machine-type=e2-micro \\\n",
        "  --image-family=ubuntu-2204-lts \\\n",
        "  --image-project=ubuntu-os-cloud \\\n",
        "  --boot-disk-size=30GB"
      ],
      "metadata": {
        "id": "e7EQDaM6AWNK"
      },
      "execution_count": null,
      "outputs": []
    },
    {
      "cell_type": "code",
      "source": [
        "!gcloud compute ssh redis-agent --command \"uname -a\""
      ],
      "metadata": {
        "id": "AVoqQTEYGg_O"
      },
      "execution_count": null,
      "outputs": []
    },
    {
      "cell_type": "code",
      "source": [
        "!gcloud compute ssh redis-agent --command \"curl -fsSL https://get.docker.com | sh\""
      ],
      "metadata": {
        "id": "IhRQ398oGh1R"
      },
      "execution_count": null,
      "outputs": []
    },
    {
      "cell_type": "code",
      "source": [
        "!gcloud compute ssh redis-agent --command \"docker run -d -p 6379:6379 redis\""
      ],
      "metadata": {
        "id": "VSlJ7x-0H03q"
      },
      "execution_count": null,
      "outputs": []
    },
    {
      "cell_type": "code",
      "source": [
        "!gcloud compute ssh redis-agent --command \"hostname -a ; whoami ; docker ps \""
      ],
      "metadata": {
        "id": "_Hb0pgg7IYEG"
      },
      "execution_count": null,
      "outputs": []
    },
    {
      "cell_type": "code",
      "source": [
        "!gcloud compute instances delete redis-agent"
      ],
      "metadata": {
        "id": "9w0DSVEGIdoi"
      },
      "execution_count": null,
      "outputs": []
    }
  ]
}