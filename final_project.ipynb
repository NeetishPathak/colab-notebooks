{
  "nbformat": 4,
  "nbformat_minor": 0,
  "metadata": {
    "colab": {
      "provenance": [],
      "include_colab_link": true
    },
    "kernelspec": {
      "name": "python3",
      "display_name": "Python 3"
    },
    "language_info": {
      "name": "python"
    }
  },
  "cells": [
    {
      "cell_type": "markdown",
      "metadata": {
        "id": "view-in-github",
        "colab_type": "text"
      },
      "source": [
        "<a href=\"https://colab.research.google.com/github/NeetishPathak/colab-notebooks/blob/main/final_project.ipynb\" target=\"_parent\"><img src=\"https://colab.research.google.com/assets/colab-badge.svg\" alt=\"Open In Colab\"/></a>"
      ]
    },
    {
      "cell_type": "code",
      "execution_count": 1,
      "metadata": {
        "id": "4Gl-e7ArcfgG"
      },
      "outputs": [],
      "source": [
        "from openai import OpenAI"
      ]
    },
    {
      "cell_type": "code",
      "source": [
        "from google.colab import userdata"
      ],
      "metadata": {
        "id": "0bEjJDChcj5E"
      },
      "execution_count": 2,
      "outputs": []
    },
    {
      "cell_type": "code",
      "source": [
        "client = OpenAI(api_key=userdata.get('OPENAI_API_KEY'))"
      ],
      "metadata": {
        "id": "8Ta8lYX3cqdz"
      },
      "execution_count": 3,
      "outputs": []
    },
    {
      "cell_type": "code",
      "source": [
        "response = client.responses.create(\n",
        "    model=\"gpt-4.1\",\n",
        "    input=\"Tell me a joke about humanoid robots in California. Make it very-very funny!\"\n",
        ")"
      ],
      "metadata": {
        "id": "qDqAT4nxdAvO"
      },
      "execution_count": 4,
      "outputs": []
    },
    {
      "cell_type": "code",
      "source": [
        "response.id"
      ],
      "metadata": {
        "colab": {
          "base_uri": "https://localhost:8080/",
          "height": 35
        },
        "id": "V8Fua7BPdx4-",
        "outputId": "b9cfb341-adf6-4cd1-ef44-d16833311777"
      },
      "execution_count": 5,
      "outputs": [
        {
          "output_type": "execute_result",
          "data": {
            "text/plain": [
              "'resp_68871d2436a0819d97bbfada6a5bc58f019c3fb8503d1bed'"
            ],
            "application/vnd.google.colaboratory.intrinsic+json": {
              "type": "string"
            }
          },
          "metadata": {},
          "execution_count": 5
        }
      ]
    },
    {
      "cell_type": "code",
      "source": [
        "print(response.output_text)"
      ],
      "metadata": {
        "colab": {
          "base_uri": "https://localhost:8080/"
        },
        "id": "hDv1bWEIdebO",
        "outputId": "78742cef-2f4b-4f7a-ff28-2a8d2edd7280"
      },
      "execution_count": 6,
      "outputs": [
        {
          "output_type": "stream",
          "name": "stdout",
          "text": [
            "Sure! Here you go:\n",
            "\n",
            "Why did the humanoid robot move to California?\n",
            "\n",
            "Because it heard that’s where all the *Silicon* bodies hang out and everyone upgrades their software *naturally*! Now it’s dreaming of becoming an influencer, but it can’t decide between surfing or surfing the web!\n"
          ]
        }
      ]
    },
    {
      "cell_type": "code",
      "source": [
        "response2 = client.responses.create(\n",
        "    model=\"gpt-4.1\",\n",
        "    previous_response_id=response.id,\n",
        "    input=[{\"role\": \"user\", \"content\": \"I do not udnerstand the joke! Explain it to me!!!!!\"}],\n",
        ")"
      ],
      "metadata": {
        "id": "rxR1iBl0dh_K"
      },
      "execution_count": 7,
      "outputs": []
    },
    {
      "cell_type": "code",
      "source": [
        "print(response2.output_text)"
      ],
      "metadata": {
        "colab": {
          "base_uri": "https://localhost:8080/"
        },
        "id": "qZwWkALmeIhb",
        "outputId": "f0dcefec-7840-45c6-84e4-cc8ea2a1ac2a"
      },
      "execution_count": 8,
      "outputs": [
        {
          "output_type": "stream",
          "name": "stdout",
          "text": [
            "Absolutely! Let me break it down for you:\n",
            "\n",
            "1. **Silicon bodies**: This is a play on words. California is home to \"Silicon Valley,\" a famous tech area, and also, in some places, people get cosmetic surgery with things like \"silicone implants\" for their bodies. So, \"silicon bodies\" is a pun connecting robots (made with silicon chips) and people in California (some stereotypically seeking perfect bodies).\n",
            "\n",
            "2. **Upgrading their software naturally**: In California, people are famous for being into natural/organic lifestyles. But robots \"upgrade software\" to get better—so the joke is that in California, even software is upgraded \"naturally,\" which is silly!\n",
            "\n",
            "3. **Surfing or surfing the web**: California is famous for its beaches and surfers. Robots usually \"surf the web\" (browse the internet). So, the robot is jokingly confused whether to do the human thing (surfing waves) or the robot thing (surfing the web).\n",
            "\n",
            "The joke is full of wordplay and stereotypes about California’s tech culture, healthy lifestyles, and beach scene, plus what robots would find confusing or funny if they lived like humans!\n"
          ]
        }
      ]
    },
    {
      "cell_type": "code",
      "source": [
        "response = client.responses.create(\n",
        "    model=\"gpt-4.1\",\n",
        "    input=[\n",
        "        {\"role\": \"user\", \"content\": \"What is this image about?\"},\n",
        "        {\n",
        "            \"role\": \"user\",\n",
        "            \"content\": [\n",
        "                {\n",
        "                    \"type\": \"input_image\",\n",
        "                    \"image_url\": \"https://i.imgur.com/uw6RD8M.png\"\n",
        "                }\n",
        "            ]\n",
        "        }\n",
        "    ]\n",
        ")"
      ],
      "metadata": {
        "id": "2taZd6TGeLaU"
      },
      "execution_count": 9,
      "outputs": []
    },
    {
      "cell_type": "code",
      "source": [
        "response.output_text"
      ],
      "metadata": {
        "colab": {
          "base_uri": "https://localhost:8080/",
          "height": 70
        },
        "id": "BrJyMK-5et67",
        "outputId": "fdc100a9-51ba-42bc-da86-9a8c310a1438"
      },
      "execution_count": 10,
      "outputs": [
        {
          "output_type": "execute_result",
          "data": {
            "text/plain": [
              "'This image is about the MIT course **6.S191: Introduction to Deep Learning**. It’s an introductory program at MIT focused on deep learning methods and their applications, such as in **computer vision**. The image shows two instructors and advertises the course as an accessible entry point to deep learning concepts. The background features an abstract building alongside classroom scenes, and the MIT logo is present, emphasizing the source and educational setting.'"
            ],
            "application/vnd.google.colaboratory.intrinsic+json": {
              "type": "string"
            }
          },
          "metadata": {},
          "execution_count": 10
        }
      ]
    },
    {
      "cell_type": "code",
      "source": [
        "follow_up = client.responses.create(\n",
        "    model=\"gpt-4.1\",\n",
        "    tools=[{\"type\": \"web_search\"}],\n",
        "    previous_response_id=response.id,\n",
        "    input=[{\"role\": \"user\", \"content\": \"Can you tell me who are these two instructors?\"}]\n",
        ")"
      ],
      "metadata": {
        "id": "Jvhe0TEIe5xj"
      },
      "execution_count": 11,
      "outputs": []
    },
    {
      "cell_type": "code",
      "source": [
        "follow_up.output_text"
      ],
      "metadata": {
        "id": "FZwyySfBgglq",
        "outputId": "dd309ba6-b8f3-4e2a-e267-301831118684",
        "colab": {
          "base_uri": "https://localhost:8080/",
          "height": 70
        }
      },
      "execution_count": 12,
      "outputs": [
        {
          "output_type": "execute_result",
          "data": {
            "text/plain": [
              "'Sorry, I can\\'t identify the individuals in the image. However, if you are referring to the MIT 6.S191 \"Introduction to Deep Learning\" course, the most common instructors associated with this course in recent years are **Alexander Amini** and **Ava Soleimany**. They have often appeared in course materials and lecture videos. \\n\\nIf you want the most current instructors, I can look it up for you. Would you like me to check?'"
            ],
            "application/vnd.google.colaboratory.intrinsic+json": {
              "type": "string"
            }
          },
          "metadata": {},
          "execution_count": 12
        }
      ]
    },
    {
      "cell_type": "code",
      "source": [],
      "metadata": {
        "id": "vA_WwPM1gjuw"
      },
      "execution_count": 12,
      "outputs": []
    }
  ]
}